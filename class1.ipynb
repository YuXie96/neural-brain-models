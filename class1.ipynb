{
 "cells": [
  {
   "cell_type": "code",
   "execution_count": 27,
   "metadata": {
    "collapsed": true
   },
   "outputs": [],
   "source": [
    "import os.path as osp\n",
    "\n",
    "import torchvision\n",
    "from config_global import ROOT_DIR\n",
    "from torch.utils.data import DataLoader\n",
    "\n",
    "import torch\n",
    "import torch.nn as nn\n",
    "import torch.nn.functional as F\n",
    "import numpy as np\n",
    "\n",
    "import math\n",
    "fl = math.floor"
   ]
  },
  {
   "cell_type": "code",
   "execution_count": 28,
   "outputs": [],
   "source": [
    "class LeNet(nn.Module):\n",
    "    def __init__(self, image_size, num_classes=10):\n",
    "        super(LeNet, self).__init__()\n",
    "        self.conv1 = nn.Conv2d(image_size[0], 6, 5)\n",
    "        self.pool1 = nn.MaxPool2d(2, 2)\n",
    "        self.conv2 = nn.Conv2d(6, 16, 5)\n",
    "        self.pool2 = nn.MaxPool2d(2, 2)\n",
    "\n",
    "        self.last_map_x = fl((fl((image_size[1]-4)/2)-4)/2)\n",
    "        self.last_map_y = fl((fl((image_size[2]-4)/2)-4)/2)\n",
    "\n",
    "        self.linear1 = nn.Linear(16 * self.last_map_x * self.last_map_y, 120)\n",
    "        self.linear2 = nn.Linear(120, 84)\n",
    "        # self.out_layer = nn.Linear(84, num_classes)\n",
    "        self.out_layer = nn.Identity()\n",
    "\n",
    "    def forward(self, inp):\n",
    "        x = self.pool1(F.relu(self.conv1(inp)))\n",
    "        x = self.pool2(F.relu(self.conv2(x)))\n",
    "        x = x.view(-1, 16 * self.last_map_x * self.last_map_y)\n",
    "        x = F.relu(self.linear1(x))\n",
    "        x = F.relu(self.linear2(x))\n",
    "        otp = self.out_layer(x)\n",
    "        return otp\n",
    "\n",
    "class CNNRNNFeedback(nn.Module):\n",
    "    def __init__(self, out_size):\n",
    "        super(CNNRNNFeedback, self).__init__()\n",
    "        self.rnn_in_size = 84\n",
    "        self.hidden_size = 100\n",
    "\n",
    "        self.cnn = LeNet((1, 28, 28), 10)\n",
    "        self.rnn = nn.LSTMCell(self.rnn_in_size, self.hidden_size)\n",
    "\n",
    "        self.out_layer = nn.Linear(self.hidden_size, out_size)\n",
    "\n",
    "    def forward(self, inp, hid_in):\n",
    "        x = self.cnn(inp)\n",
    "        hid_out = self.rnn(x, hid_in)\n",
    "        otp = self.out_layer(hid_out[0])\n",
    "        return otp, hid_out\n",
    "\n",
    "    def init_hidden(self, batch_size):\n",
    "        init_hid = (torch.zeros(batch_size, self.hidden_size),\n",
    "                    torch.zeros(batch_size, self.hidden_size))\n",
    "        return init_hid"
   ],
   "metadata": {
    "collapsed": false,
    "pycharm": {
     "name": "#%%\n"
    }
   }
  },
  {
   "cell_type": "code",
   "execution_count": 37,
   "outputs": [
    {
     "name": "stdout",
     "output_type": "stream",
     "text": [
      "Loss: 0.6946204900741577\n",
      "Accuracy: 54.0%\n",
      "Loss: 0.5048700571060181\n",
      "Accuracy: 75.0%\n",
      "Loss: 0.39974266290664673\n",
      "Accuracy: 85.0%\n",
      "Loss: 0.3296430706977844\n",
      "Accuracy: 89.0%\n",
      "Loss: 0.2838034927845001\n",
      "Accuracy: 90.0%\n",
      "Loss: 0.11622250080108643\n",
      "Accuracy: 100.0%\n",
      "Loss: 0.1715230941772461\n",
      "Accuracy: 93.0%\n",
      "Loss: 0.22998639941215515\n",
      "Accuracy: 92.0%\n",
      "Loss: 0.08820346742868423\n",
      "Accuracy: 99.0%\n"
     ]
    }
   ],
   "source": [
    "class DelayedMatch:\n",
    "    def __init__(self, sample_step, delay_step, test_step, batch_size):\n",
    "        self.sample_step = sample_step\n",
    "        self.delay_step = delay_step\n",
    "        self.test_step = test_step\n",
    "\n",
    "        # comparison loss\n",
    "        self.criterion = nn.BCEWithLogitsLoss()\n",
    "\n",
    "        assert batch_size % 2 == 0, 'batch size must be odd number'\n",
    "        self.batch_size = batch_size\n",
    "        self.split_size = int(batch_size / 2)\n",
    "\n",
    "    def roll(self, model, data_batch):\n",
    "        input_, label_ = data_batch\n",
    "\n",
    "        # assuming the same image is not sampled twice in the batch\n",
    "        inp1 = input_[:self.split_size]\n",
    "        inp2 = input_[self.split_size:]\n",
    "\n",
    "        # first self.split_size trial in the batch are match\n",
    "        # last self.split_size trial in the batch are non-match\n",
    "        sample_input = torch.cat((inp1, inp1), 0)\n",
    "        match_input = torch.cat((inp1, inp2), 0)\n",
    "\n",
    "        target = torch.zeros((self.batch_size, 1))\n",
    "        target[:self.split_size, 0] = 1.0\n",
    "\n",
    "        roll_step = self.sample_step + self.delay_step + self.test_step\n",
    "\n",
    "        task_loss = 0\n",
    "        pred_num = 0\n",
    "        pred_correct = 0\n",
    "        hidden = model.init_hidden(self.batch_size)\n",
    "        for t_ in range(roll_step):\n",
    "            if t_ < self.sample_step:\n",
    "                model_inp = sample_input\n",
    "            elif self.sample_step <= t_ < self.sample_step + self.delay_step:\n",
    "                model_inp = torch.zeros_like(sample_input)\n",
    "            else:\n",
    "                model_inp = match_input\n",
    "\n",
    "            output, hidden = model(model_inp, hidden)\n",
    "\n",
    "            if t_ >= self.sample_step + self.delay_step:\n",
    "                task_loss += self.criterion(output, target)\n",
    "\n",
    "                pred_num += target.size(0)\n",
    "                pred_tf = output > 0.0\n",
    "                pred_correct += (pred_tf == target).sum().item()\n",
    "\n",
    "        task_loss = task_loss / self.test_step\n",
    "        return task_loss, pred_num, pred_correct\n",
    "\n",
    "\n",
    "b_size = 20\n",
    "num_wks = 2\n",
    "\n",
    "trans = torchvision.transforms.Compose([torchvision.transforms.ToTensor(), ])\n",
    "data_set = torchvision.datasets.MNIST(root=osp.join(ROOT_DIR, 'data'),\n",
    "                                      train=True, download=True,\n",
    "                                      transform=trans)\n",
    "data_loader = DataLoader(data_set, batch_size=b_size, shuffle=True,\n",
    "                         num_workers=num_wks, drop_last=True)\n",
    "\n",
    "\n",
    "model = CNNRNNFeedback(1)\n",
    "optimizer = torch.optim.Adam(model.parameters())\n",
    "task = DelayedMatch(5, 0, 5, b_size)\n",
    "\n",
    "batch_number = 0\n",
    "for data in data_loader:\n",
    "    batch_number += 1\n",
    "    if batch_number >= 1000:\n",
    "        break\n",
    "\n",
    "    loss, pred_num, pred_correct = task.roll(model, data)\n",
    "\n",
    "    optimizer.zero_grad()\n",
    "    loss.backward()\n",
    "    optimizer.step()\n",
    "\n",
    "    if batch_number % 100 == 0:\n",
    "        print('Loss: {}'.format(loss.item()))\n",
    "        print('Accuracy: {}%'.format(100 * pred_correct / pred_num))\n",
    "\n"
   ],
   "metadata": {
    "collapsed": false,
    "pycharm": {
     "name": "#%%\n"
    }
   }
  },
  {
   "cell_type": "code",
   "execution_count": 32,
   "outputs": [],
   "source": [],
   "metadata": {
    "collapsed": false,
    "pycharm": {
     "name": "#%%\n"
    }
   }
  },
  {
   "cell_type": "code",
   "execution_count": null,
   "outputs": [],
   "source": [],
   "metadata": {
    "collapsed": false,
    "pycharm": {
     "name": "#%%\n"
    }
   }
  }
 ],
 "metadata": {
  "kernelspec": {
   "name": "python383jvsc74a57bd0f8f37b5c602c22937674684abce00ee690ae5da5a08b7b80d1f0bc8504f62620",
   "language": "python",
   "display_name": "Python 3.8.3 ('flexiblewm')"
  },
  "language_info": {
   "codemirror_mode": {
    "name": "ipython",
    "version": 2
   },
   "file_extension": ".py",
   "mimetype": "text/x-python",
   "name": "python",
   "nbconvert_exporter": "python",
   "pygments_lexer": "ipython2",
   "version": "2.7.6"
  }
 },
 "nbformat": 4,
 "nbformat_minor": 0
}