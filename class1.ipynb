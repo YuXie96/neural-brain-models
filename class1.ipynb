{
 "cells": [
  {
   "cell_type": "code",
   "execution_count": 5,
   "metadata": {
    "collapsed": true
   },
   "outputs": [],
   "source": [
    "import torch\n",
    "import torch.nn as nn\n",
    "import torch.nn.functional as F\n",
    "import numpy as np\n",
    "\n",
    "import math\n",
    "fl = math.floor"
   ]
  },
  {
   "cell_type": "code",
   "execution_count": 4,
   "outputs": [],
   "source": [
    "class LeNet(nn.Module):\n",
    "    def __init__(self, image_size, num_classes=10):\n",
    "        super(LeNet, self).__init__()\n",
    "        self.conv1 = nn.Conv2d(image_size[0], 6, 5)\n",
    "        self.pool1 = nn.MaxPool2d(2, 2)\n",
    "        self.conv2 = nn.Conv2d(6, 16, 5)\n",
    "        self.pool2 = nn.MaxPool2d(2, 2)\n",
    "\n",
    "        self.last_map_x = fl((fl((image_size[1]-4)/2)-4)/2)\n",
    "        self.last_map_y = fl((fl((image_size[2]-4)/2)-4)/2)\n",
    "\n",
    "        self.linear1 = nn.Linear(16 * self.last_map_x * self.last_map_y, 120)\n",
    "        self.linear2 = nn.Linear(120, 84)\n",
    "        self.out_layer = nn.Linear(84, num_classes)\n",
    "\n",
    "    def forward(self, inp):\n",
    "        x = self.pool1(F.relu(self.conv1(inp)))\n",
    "        x = self.pool2(F.relu(self.conv2(x)))\n",
    "        x = x.view(-1, 16 * self.last_map_x * self.last_map_y)\n",
    "        x = F.relu(self.linear1(x))\n",
    "        x = F.relu(self.linear2(x))\n",
    "        otp = self.out_layer(x)\n",
    "        return otp\n",
    "\n",
    "class CNNRNNFeedback(nn.Module):\n",
    "    def __init__(self, out_size):\n",
    "        super(CNNRNNFeedback, self).__init__()\n",
    "        self.rnn_in_size = 84\n",
    "        self.hidden_size = 100\n",
    "\n",
    "        self.cnn = LeNet((1, 28, 28), 10)\n",
    "        self.rnn = nn.LSTMCell(self.rnn_in_size, self.hidden_size)\n",
    "\n",
    "        self.out_layer = nn.Linear(self.hidden_size, out_size)\n",
    "\n",
    "    def forward(self, inp, hid_in):\n",
    "        x = self.cnn(inp)\n",
    "        hid_out = self.rnn(x, hid_in)\n",
    "        otp = self.out_layer(hid_out[0])\n",
    "        return otp, hid_out"
   ],
   "metadata": {
    "collapsed": false,
    "pycharm": {
     "name": "#%%\n"
    }
   }
  },
  {
   "cell_type": "code",
   "execution_count": 5,
   "outputs": [],
   "source": [
    "class DelayedMatch:\n",
    "    def __init__(self, sample_step, delay_step, test_step, batch_size):\n",
    "        self.sample_step = sample_step\n",
    "        self.delay_step = delay_step\n",
    "        self.test_step = test_step\n",
    "\n",
    "        # comparison loss\n",
    "        self.criterion = nn.BCEWithLogitsLoss()\n",
    "\n",
    "        self.Batch_Size = batch_size\n",
    "        self.task_batch_s = 2 * self.Batch_Size\n",
    "\n",
    "    def roll(self, model, data_batch, train=False, test=False, evaluate=False):\n",
    "        assert train + test + evaluate == 1, \"only one mode should be activated\"\n",
    "        input_, label_ = data_batch\n",
    "\n",
    "        # assuming the same image is not sampled twice in the batch\n",
    "        inp1 = input_[:self.Batch_Size]\n",
    "        inp2 = input_[self.Batch_Size:]\n",
    "\n",
    "        # first self.Batch_Size trial in the batch are match\n",
    "        # last self.Batch_Size trial in the batch are non-match\n",
    "        sample_input = torch.cat((inp1, inp1), 0)\n",
    "        match_input = torch.cat((inp1, inp2), 0)\n",
    "\n",
    "        target = torch.zeros((self.task_batch_s, 1))\n",
    "        target[:self.Batch_Size, 0] = 1.0\n",
    "\n",
    "        roll_step = self.sample_step + self.delay_step + self.test_step\n",
    "\n",
    "        task_loss = 0\n",
    "        pred_num = 0\n",
    "        pred_correct = 0\n",
    "        hidden = model.init_hidden(batch_expand=2)\n",
    "        for t_ in range(roll_step):\n",
    "            if t_ < self.sample_step:\n",
    "                model_inp = sample_input\n",
    "            elif self.sample_step <= t_ < self.sample_step + self.delay_step:\n",
    "                model_inp = torch.zeros_like(sample_input)\n",
    "            else:\n",
    "                model_inp = match_input\n",
    "\n",
    "            output, hidden = model(model_inp, hidden)\n",
    "\n",
    "            if t_ >= self.sample_step + self.delay_step:\n",
    "                task_loss += self.criterion(output, target)\n",
    "\n",
    "                if test or evaluate:\n",
    "                    pred_num += target.size(0)\n",
    "                    pred_tf = output > 0.0\n",
    "                    pred_correct += (pred_tf == target).sum().item()\n",
    "\n",
    "        task_loss = task_loss / self.test_step\n",
    "        if test or evaluate:\n",
    "            return task_loss, pred_num, pred_correct\n",
    "        else:\n",
    "            return task_loss"
   ],
   "metadata": {
    "collapsed": false,
    "pycharm": {
     "name": "#%%\n"
    }
   }
  },
  {
   "cell_type": "code",
   "execution_count": null,
   "outputs": [],
   "source": [
    "\n",
    "\n",
    "trans = transform.Compose([transform.ToTensor(), ])\n",
    "# transform.Normalize((0.1307,), (0.3081,))])\n",
    "\n",
    "data_set = torchvision.datasets.MNIST(root=osp.join(ROOT_DIR, 'data'),\n",
    "                                      train=train_flag, download=True,\n",
    "                                      transform=trans)\n",
    "datum_size = (1, 28, 28)"
   ],
   "metadata": {
    "collapsed": false,
    "pycharm": {
     "name": "#%%\n"
    }
   }
  }
 ],
 "metadata": {
  "kernelspec": {
   "name": "python383jvsc74a57bd0f8f37b5c602c22937674684abce00ee690ae5da5a08b7b80d1f0bc8504f62620",
   "language": "python",
   "display_name": "Python 3.8.3 ('flexiblewm')"
  },
  "language_info": {
   "codemirror_mode": {
    "name": "ipython",
    "version": 2
   },
   "file_extension": ".py",
   "mimetype": "text/x-python",
   "name": "python",
   "nbconvert_exporter": "python",
   "pygments_lexer": "ipython2",
   "version": "2.7.6"
  }
 },
 "nbformat": 4,
 "nbformat_minor": 0
}