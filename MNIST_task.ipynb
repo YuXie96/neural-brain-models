{
 "cells": [
  {
   "cell_type": "code",
   "execution_count": 1,
   "id": "a221a239",
   "metadata": {},
   "outputs": [],
   "source": [
    "import torch\n",
    "import numpy as np\n",
    "from torchvision import datasets\n",
    "import torchvision.transforms as transforms\n",
    "from torch.utils.data.sampler import SubsetRandomSampler\n",
    "import matplotlib.pyplot as plt\n",
    "import torch.nn as nn\n",
    "import torch.nn.functional as F"
   ]
  },
  {
   "cell_type": "code",
   "execution_count": 2,
   "id": "cbddde95",
   "metadata": {},
   "outputs": [
    {
     "name": "stderr",
     "output_type": "stream",
     "text": [
      "/usr/local/lib/python3.9/site-packages/torchvision/datasets/mnist.py:498: UserWarning: The given NumPy array is not writeable, and PyTorch does not support non-writeable tensors. This means you can write to the underlying (supposedly non-writeable) NumPy array using the tensor. You may want to copy the array to protect its data or make it writeable before converting it to a tensor. This type of warning will be suppressed for the rest of this program. (Triggered internally at  ../torch/csrc/utils/tensor_numpy.cpp:180.)\n",
      "  return torch.from_numpy(parsed.astype(m[2], copy=False)).view(*s)\n"
     ]
    }
   ],
   "source": [
    "# number of subprocesses to use for data loading\n",
    "num_workers = 0\n",
    "\n",
    "# how many samples per batch to load\n",
    "batch_size = 20\n",
    "\n",
    "# percentage of training set to use as validation\n",
    "valid_size = 0.2\n",
    "\n",
    "# convert data to torch.FloatTensor\n",
    "transform = transforms.ToTensor()\n",
    "\n",
    "# choose the training and testing datasets\n",
    "train_data = datasets.MNIST(root = 'data', train = True, download = True, transform = transform)\n",
    "test_data = datasets.MNIST(root = 'data', train = False, download = True, transform = transform)\n",
    "\n",
    "# obtain training indices that will be used for validation\n",
    "num_train = len(train_data)\n",
    "indices = list(range(num_train))\n",
    "np.random.shuffle(indices)\n",
    "split = int(np.floor(valid_size * num_train))\n",
    "train_index, valid_index = indices[split:], indices[:split]\n",
    "\n",
    "# define samplers for obtaining training and validation batches\n",
    "train_sampler = SubsetRandomSampler(train_index)\n",
    "valid_sampler = SubsetRandomSampler(valid_index)\n",
    "\n",
    "# prepare data loaders\n",
    "train_loader = torch.utils.data.DataLoader(train_data, batch_size = batch_size, \n",
    "                                           sampler = train_sampler, num_workers = num_workers)\n",
    "valid_loader = torch.utils.data.DataLoader(train_data, batch_size = batch_size,\n",
    "                                          sampler = valid_sampler, num_workers = num_workers)\n",
    "test_loader = torch.utils.data.DataLoader(test_data, batch_size = batch_size,\n",
    "                                         num_workers = num_workers)"
   ]
  },
  {
   "cell_type": "code",
   "execution_count": 3,
   "id": "7506c609",
   "metadata": {},
   "outputs": [
    {
     "data": {
      "text/plain": [
       "<matplotlib.image.AxesImage at 0x132e99e80>"
      ]
     },
     "execution_count": 3,
     "metadata": {},
     "output_type": "execute_result"
    },
    {
     "data": {
      "image/png": "[encoded data removed]",
      "text/plain": [
       "<Figure size 576x576 with 1 Axes>"
      ]
     },
     "metadata": {
      "needs_background": "light"
     },
     "output_type": "display_data"
    }
   ],
   "source": [
    "%matplotlib inline\n",
    "\n",
    "from skimage.transform import resize\n",
    "    \n",
    "# obtain one batch of training images\n",
    "\n",
    "dataiter = iter(train_loader)\n",
    "images, labels = dataiter.next()\n",
    "images = images.numpy()\n",
    "\n",
    "# plot the images in the batch, along with the corresponding labels\n",
    "\n",
    "fig = plt.figure(figsize=(8, 8))\n",
    "ax = fig.add_subplot(111)\n",
    "\n",
    "im = np.concatenate([images[0], images[1]], axis = 1)\n",
    "im = resize(im, (1, 32, 32))\n",
    "ax.imshow(np.squeeze(im), cmap='gray')"
   ]
  },
  {
   "cell_type": "code",
   "execution_count": 4,
   "id": "36ed5abf",
   "metadata": {},
   "outputs": [
    {
     "data": {
      "text/plain": [
       "<matplotlib.image.AxesImage at 0x138ca8310>"
      ]
     },
     "execution_count": 4,
     "metadata": {},
     "output_type": "execute_result"
    },
    {
     "data": {
      "image/png": "[encoded data removed]",
      "text/plain": [
       "<Figure size 576x576 with 1 Axes>"
      ]
     },
     "metadata": {
      "needs_background": "light"
     },
     "output_type": "display_data"
    }
   ],
   "source": [
    "from skimage.draw import polygon\n",
    "from torchvision import datasets, transforms\n",
    "\n",
    "img = np.zeros((32, 32), dtype=np.uint8)\n",
    "r = np.array([11, 11, 19])\n",
    "c = np.array([11, 19, 15])\n",
    "rr, cc = polygon(r, c)\n",
    "img[rr, cc] = 1\n",
    "\n",
    "fig = plt.figure(figsize=(8, 8))\n",
    "\n",
    "if np.random.rand() < 0.:\n",
    "    img = np.flip(img)\n",
    "\n",
    "plt.imshow(img, cmap='gray')"
   ]
  },
  {
   "cell_type": "markdown",
   "id": "2ce90b3e",
   "metadata": {},
   "source": [
    "### Task definition"
   ]
  },
  {
   "cell_type": "code",
   "execution_count": 5,
   "id": "cd16d1f1",
   "metadata": {},
   "outputs": [],
   "source": [
    "import gym\n",
    "import neurogym as ngym\n",
    "\n",
    "from neurogym import spaces"
   ]
  },
  {
   "cell_type": "code",
   "execution_count": 22,
   "id": "31099a2b",
   "metadata": {},
   "outputs": [],
   "source": [
    "# A simple image based decision making task for this tutorial\n",
    "\n",
    "class MyTask(ngym.TrialEnv):\n",
    "    \"\"\"\n",
    "    Task description\n",
    "    \"\"\"\n",
    "\n",
    "    def __init__(self, dt=100, rewards=None, timing=None):\n",
    "        super().__init__(dt=dt)\n",
    "        # Rewards\n",
    "        self.rewards = {'abort': -0.1, 'correct': +1., 'fail': 0.}\n",
    "        if rewards:\n",
    "            self.rewards.update(rewards)\n",
    "\n",
    "        self.timing = {\n",
    "            'fixation': 100,\n",
    "            'stimulus': 300,\n",
    "            'decision': 100}\n",
    "        if timing:\n",
    "            self.timing.update(timing)\n",
    "            \n",
    "        self.abort = False\n",
    "        \n",
    "        # Box shape (Channel, Height, Width)\n",
    "        self.ob_shape = (1, 32, 32)\n",
    "        self.observation_space = spaces.Box(\n",
    "            -np.inf, np.inf, shape=self.ob_shape, dtype=np.float32)\n",
    "        name = {'fixation': 0, 'choice': [1, 2]}\n",
    "        self.action_space = spaces.Discrete(3, name=name)\n",
    "        \n",
    "        # MNIST\n",
    "        \n",
    "        # number of subprocesses to use for data loading\n",
    "        num_workers = 0\n",
    "        batch_size = 20\n",
    "        valid_size = 0.2\n",
    "\n",
    "        # convert data to torch.FloatTensor\n",
    "        transform = transforms.ToTensor()\n",
    "\n",
    "        # choose the training and testing datasets\n",
    "        train_data = datasets.MNIST(root = 'data', train = True, download = True, transform = transform)\n",
    "        test_data = datasets.MNIST(root = 'data', train = False, download = True, transform = transform)\n",
    "\n",
    "        # obtain training indices that will be used for validation\n",
    "        num_train = len(train_data)\n",
    "        indices = list(range(num_train))\n",
    "        np.random.shuffle(indices)\n",
    "        split = int(np.floor(valid_size * num_train))\n",
    "        train_index, valid_index = indices[split:], indices[:split]\n",
    "\n",
    "        # define samplers for obtaining training and validation batches\n",
    "        train_sampler = SubsetRandomSampler(train_index)\n",
    "        valid_sampler = SubsetRandomSampler(valid_index)\n",
    "\n",
    "        # prepare data loaders\n",
    "        self.train_loader = torch.utils.data.DataLoader(train_data, batch_size = batch_size, \n",
    "                                                   sampler = train_sampler, num_workers = num_workers)\n",
    "        self.valid_loader = torch.utils.data.DataLoader(train_data, batch_size = batch_size,\n",
    "                                                  sampler = valid_sampler, num_workers = num_workers)\n",
    "        self.test_loader = torch.utils.data.DataLoader(test_data, batch_size = batch_size,\n",
    "                                                 num_workers = num_workers)\n",
    "        \n",
    "    def _direction(self):\n",
    "        img = np.zeros((32, 32), dtype=np.uint8)\n",
    "        r = np.array([11, 11, 19])\n",
    "        c = np.array([11, 19, 15])\n",
    "        rr, cc = polygon(r, c)\n",
    "        img[rr, cc] = 1\n",
    "        \n",
    "        direction = -1\n",
    "    \n",
    "        if np.random.rand() < 0.5:\n",
    "            img = np.flip(img)\n",
    "            direction = 1\n",
    "        \n",
    "        return img, direction\n",
    "\n",
    "    def _new_trial(self, **kwargs):\n",
    "        # Trial info\n",
    "        trial = {\n",
    "            'ground_truth': self.rng.choice([0, 1]),\n",
    "        }\n",
    "        trial.update(kwargs)\n",
    "\n",
    "        ground_truth = trial['ground_truth']\n",
    "\n",
    "        # Periods\n",
    "        self.add_period(['fixation', 'stimulus', 'decision'])\n",
    "\n",
    "        # Observations\n",
    "        im, direction = self._direction()\n",
    "        self.add_ob(im, period='fixation')\n",
    "        \n",
    "        dataiter = iter(self.train_loader)\n",
    "        images, labels = dataiter.next()\n",
    "        images = images.numpy()\n",
    "\n",
    "        im = np.concatenate([images[0], images[1]], axis = 1)\n",
    "        im = resize(im, (1, 32, 32))\n",
    "        \n",
    "        if direction == 1:\n",
    "            ground_truth = 0\n",
    "        else:\n",
    "            ground_truth = 1\n",
    "        \n",
    "        self.add_ob(im, period='stimulus')\n",
    "        self.add_randn(0, 0, period='stimulus')\n",
    "\n",
    "        # Ground truth\n",
    "        self.set_groundtruth(ground_truth, period='decision', where='choice')\n",
    "\n",
    "        return trial\n",
    "\n",
    "    def _step(self, action):\n",
    "\n",
    "        new_trial = False\n",
    "        # rewards\n",
    "        reward = 0\n",
    "        gt = self.gt_now\n",
    "        # observations\n",
    "        if self.in_period('fixation'):\n",
    "            if action != 0:  # action = 0 means fixating\n",
    "                new_trial = self.abort\n",
    "                reward += self.rewards['abort']\n",
    "        elif self.in_period('decision'):\n",
    "            if action != 0:\n",
    "                new_trial = True\n",
    "                if action == gt:\n",
    "                    reward += self.rewards['correct']\n",
    "                    self.performance = 1\n",
    "                else:\n",
    "                    reward += self.rewards['fail']\n",
    "\n",
    "        return self.ob_now, reward, False, {'new_trial': new_trial, 'gt': gt}"
   ]
  },
  {
   "cell_type": "code",
   "execution_count": 27,
   "id": "1054915a",
   "metadata": {},
   "outputs": [
    {
     "data": {
      "image/png": "[encoded data removed]",
      "text/plain": [
       "<Figure size 108x108 with 1 Axes>"
      ]
     },
     "metadata": {
      "needs_background": "light"
     },
     "output_type": "display_data"
    },
    {
     "data": {
      "image/png": "[encoded data removed]",
      "text/plain": [
       "<Figure size 108x108 with 1 Axes>"
      ]
     },
     "metadata": {
      "needs_background": "light"
     },
     "output_type": "display_data"
    },
    {
     "data": {
      "image/png": "[encoded data removed]",
      "text/plain": [
       "<Figure size 108x108 with 1 Axes>"
      ]
     },
     "metadata": {
      "needs_background": "light"
     },
     "output_type": "display_data"
    },
    {
     "data": {
      "image/png": "[encoded data removed]",
      "text/plain": [
       "<Figure size 108x108 with 1 Axes>"
      ]
     },
     "metadata": {
      "needs_background": "light"
     },
     "output_type": "display_data"
    },
    {
     "data": {
      "image/png": "[encoded data removed]",
      "text/plain": [
       "<Figure size 108x108 with 1 Axes>"
      ]
     },
     "metadata": {
      "needs_background": "light"
     },
     "output_type": "display_data"
    },
    {
     "data": {
      "image/png": "[encoded data removed]",
      "text/plain": [
       "<Figure size 108x108 with 1 Axes>"
      ]
     },
     "metadata": {
      "needs_background": "light"
     },
     "output_type": "display_data"
    },
    {
     "data": {
      "image/png": "[encoded data removed]",
      "text/plain": [
       "<Figure size 108x108 with 1 Axes>"
      ]
     },
     "metadata": {
      "needs_background": "light"
     },
     "output_type": "display_data"
    },
    {
     "data": {
      "image/png": "[encoded data removed]",
      "text/plain": [
       "<Figure size 108x108 with 1 Axes>"
      ]
     },
     "metadata": {
      "needs_background": "light"
     },
     "output_type": "display_data"
    },
    {
     "data": {
      "image/png": "[encoded data removed]",
      "text/plain": [
       "<Figure size 108x108 with 1 Axes>"
      ]
     },
     "metadata": {
      "needs_background": "light"
     },
     "output_type": "display_data"
    }
   ],
   "source": [
    "# Create environment from source code\n",
    "vis_env = MyTask(dt=50)\n",
    "vis_env.reset(no_step=True)\n",
    "\n",
    "# Loop through several time steps\n",
    "for i in range(9):\n",
    "    ob, _, _, _ = vis_env.step(action=0)  # keep choosing action 0\n",
    "    \n",
    "    plt.figure(figsize=(1.5, 1.5))\n",
    "    plt.imshow(ob[0])\n",
    "    plt.title('Time in trial {:d} ms'.format(vis_env.t))\n",
    "    plt.axis('off')\n",
    "    plt.show()"
   ]
  },
  {
   "cell_type": "code",
   "execution_count": null,
   "id": "a9c331bc",
   "metadata": {},
   "outputs": [],
   "source": []
  }
 ],
 "metadata": {
  "kernelspec": {
   "display_name": "Python 3",
   "language": "python",
   "name": "python3"
  },
  "language_info": {
   "codemirror_mode": {
    "name": "ipython",
    "version": 3
   },
   "file_extension": ".py",
   "mimetype": "text/x-python",
   "name": "python",
   "nbconvert_exporter": "python",
   "pygments_lexer": "ipython3",
   "version": "3.9.7"
  }
 },
 "nbformat": 4,
 "nbformat_minor": 5
}
